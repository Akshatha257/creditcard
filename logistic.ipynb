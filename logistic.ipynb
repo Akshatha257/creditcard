{
 "cells": [
  {
   "cell_type": "code",
   "execution_count": 4,
   "metadata": {},
   "outputs": [],
   "source": [
    "import pandas as pd\n",
    "import numpy as np"
   ]
  },
  {
   "cell_type": "code",
   "execution_count": 5,
   "metadata": {},
   "outputs": [],
   "source": [
    "creditcard = pd.read_csv('creditcard.csv')"
   ]
  },
  {
   "cell_type": "code",
   "execution_count": 6,
   "metadata": {},
   "outputs": [],
   "source": [
    "X = creditcard[['Time', 'V1', 'V2', 'V3', 'V4', 'V5', 'V6', 'V7', 'V8', 'V9', 'V10',\n",
    "       'V11', 'V12', 'V13', 'V14', 'V15', 'V16', 'V17', 'V18', 'V19', 'V20',\n",
    "       'V21', 'V22', 'V23', 'V24', 'V25', 'V26', 'V27', 'V28', 'Amount']]\n",
    "y = creditcard['Class']"
   ]
  },
  {
   "cell_type": "code",
   "execution_count": 7,
   "metadata": {},
   "outputs": [],
   "source": [
    "from sklearn.model_selection  import train_test_split\n",
    "from sklearn import metrics\n",
    "import scipy.optimize as op"
   ]
  },
  {
   "cell_type": "code",
   "execution_count": 8,
   "metadata": {},
   "outputs": [
    {
     "name": "stdout",
     "output_type": "stream",
     "text": [
      "(99682, 30)\n",
      "(185125, 30)\n"
     ]
    }
   ],
   "source": [
    "Xtrain, Xtest, ytrain, ytest = train_test_split(X, y, test_size=0.65, random_state=0)\n",
    "print(Xtrain.shape);\n",
    "print(Xtest.shape);"
   ]
  },
  {
   "cell_type": "code",
   "execution_count": 9,
   "metadata": {},
   "outputs": [],
   "source": [
    "def sigmoid(z):\n",
    "    return 1/(1 + np.exp(-z));"
   ]
  },
  {
   "cell_type": "code",
   "execution_count": 10,
   "metadata": {},
   "outputs": [],
   "source": [
    "def costFunctionReg(theta, X, y):\n",
    "    m = len(y)\n",
    "    n = len(theta)\n",
    "    h = sigmoid(X.dot(theta))\n",
    "    J = (-y.T.dot(np.log(h))-(1-y.T).dot(np.log(1-h)))/m\n",
    "    return J"
   ]
  },
  {
   "cell_type": "code",
   "execution_count": 11,
   "metadata": {},
   "outputs": [],
   "source": [
    "def Gradient(theta, X, y):\n",
    "    m = len(y)\n",
    "    n = len(theta)\n",
    "    h = sigmoid(X.dot(theta))\n",
    "    grad = (1/m)*(X.T).dot(h-y);\n",
    "    return grad.flatten()"
   ]
  },
  {
   "cell_type": "code",
   "execution_count": 12,
   "metadata": {},
   "outputs": [],
   "source": [
    "def predict(theta, X):\n",
    "    m, n = X.shape\n",
    "    p = np.zeros(m)\n",
    "    h = sigmoid(X.dot(theta))\n",
    "    for i in range(0, m):\n",
    "        if h[i] > 0.5:\n",
    "            p[i] = 1\n",
    "        else:\n",
    "            p[i] = 0\n",
    "    return p"
   ]
  },
  {
   "cell_type": "code",
   "execution_count": 13,
   "metadata": {},
   "outputs": [],
   "source": [
    "Xtrain = np.array(Xtrain)\n",
    "ytrain = np.array(ytrain)\n",
    "Xtest = np.array(Xtest)\n",
    "ytest = np.array(ytest)"
   ]
  },
  {
   "cell_type": "code",
   "execution_count": 14,
   "metadata": {},
   "outputs": [],
   "source": [
    "Xtrain_ones = np.append(np.ones((Xtrain.shape[0],1)), Xtrain, axis = 1)"
   ]
  },
  {
   "cell_type": "code",
   "execution_count": 15,
   "metadata": {},
   "outputs": [
    {
     "name": "stderr",
     "output_type": "stream",
     "text": [
      "C:\\Users\\Amrutha Punuganti\\Anaconda3\\lib\\site-packages\\ipykernel_launcher.py:5: RuntimeWarning: divide by zero encountered in log\n",
      "  \"\"\"\n"
     ]
    },
    {
     "name": "stdout",
     "output_type": "stream",
     "text": [
      "Warning: Desired error not necessarily achieved due to precision loss.\n",
      "         Current function value: nan\n",
      "         Iterations: 3\n",
      "         Function evaluations: 40\n",
      "         Gradient evaluations: 40\n"
     ]
    },
    {
     "name": "stderr",
     "output_type": "stream",
     "text": [
      "C:\\Users\\Amrutha Punuganti\\Anaconda3\\lib\\site-packages\\ipykernel_launcher.py:5: RuntimeWarning: divide by zero encountered in log\n",
      "  \"\"\"\n"
     ]
    }
   ],
   "source": [
    "initial_theta = np.zeros(Xtrain_ones.shape[1])\n",
    "theta_optimal = op.fmin_bfgs(f= costFunctionReg, x0 = initial_theta, args = (Xtrain_ones,ytrain), fprime = Gradient, maxiter = 400);"
   ]
  },
  {
   "cell_type": "code",
   "execution_count": 16,
   "metadata": {},
   "outputs": [
    {
     "name": "stdout",
     "output_type": "stream",
     "text": [
      "[[184739     70]\n",
      " [   262     54]]\n",
      "              precision    recall  f1-score   support\n",
      "\n",
      "           0       1.00      1.00      1.00    184809\n",
      "           1       0.44      0.17      0.25       316\n",
      "\n",
      "   micro avg       1.00      1.00      1.00    185125\n",
      "   macro avg       0.72      0.59      0.62    185125\n",
      "weighted avg       1.00      1.00      1.00    185125\n",
      "\n",
      "Accuracy : 0.998207\n",
      "Area under the curve : 0.585254\n"
     ]
    }
   ],
   "source": [
    "Xtest_ones = np.append(np.ones((Xtest.shape[0],1)), Xtest,axis = 1);\n",
    "ypred = predict(theta_optimal,Xtest_ones);\n",
    "print(metrics.confusion_matrix(ytest,ypred));\n",
    "print(metrics.classification_report(ytest,ypred));\n",
    "print('Accuracy : %f' %(metrics.accuracy_score(ytest,ypred)));\n",
    "print('Area under the curve : %f' %(metrics.roc_auc_score(ytest,ypred)));"
   ]
  },
  {
   "cell_type": "code",
   "execution_count": 17,
   "metadata": {},
   "outputs": [
    {
     "name": "stderr",
     "output_type": "stream",
     "text": [
      "C:\\Users\\Amrutha Punuganti\\Anaconda3\\lib\\site-packages\\sklearn\\linear_model\\logistic.py:433: FutureWarning: Default solver will be changed to 'lbfgs' in 0.22. Specify a solver to silence this warning.\n",
      "  FutureWarning)\n"
     ]
    }
   ],
   "source": [
    "from sklearn.linear_model import LogisticRegression\n",
    "clf_logistic = LogisticRegression(penalty='l2');\n",
    "clf_logistic.fit(Xtrain, ytrain);"
   ]
  },
  {
   "cell_type": "code",
   "execution_count": 18,
   "metadata": {},
   "outputs": [
    {
     "name": "stdout",
     "output_type": "stream",
     "text": [
      "[[184753     56]\n",
      " [    91    225]]\n",
      "              precision    recall  f1-score   support\n",
      "\n",
      "           0       1.00      1.00      1.00    184809\n",
      "           1       0.80      0.71      0.75       316\n",
      "\n",
      "   micro avg       1.00      1.00      1.00    185125\n",
      "   macro avg       0.90      0.86      0.88    185125\n",
      "weighted avg       1.00      1.00      1.00    185125\n",
      "\n",
      "Accuracy : 0.999206\n",
      "Area under the curve : 0.855861\n"
     ]
    }
   ],
   "source": [
    "ypred = clf_logistic.predict(Xtest);\n",
    "print(metrics.confusion_matrix(ytest,ypred));\n",
    "print(metrics.classification_report(ytest,ypred));\n",
    "print('Accuracy : %f' %(metrics.accuracy_score(ytest,ypred)));\n",
    "print('Area under the curve : %f' %(metrics.roc_auc_score(ytest,ypred)));"
   ]
  },
  {
   "cell_type": "code",
   "execution_count": 20,
   "metadata": {},
   "outputs": [
    {
     "name": "stdout",
     "output_type": "stream",
     "text": [
      "Not Fraud    284315\n",
      "Fraud           492\n",
      "Name: Class, dtype: int64\n"
     ]
    }
   ],
   "source": [
    "class_names = {0:'Not Fraud', 1:'Fraud'}\n",
    "print(creditcard.Class.value_counts().rename(index = class_names))"
   ]
  },
  {
   "cell_type": "code",
   "execution_count": null,
   "metadata": {},
   "outputs": [],
   "source": []
  }
 ],
 "metadata": {
  "kernelspec": {
   "display_name": "Python 3",
   "language": "python",
   "name": "python3"
  },
  "language_info": {
   "codemirror_mode": {
    "name": "ipython",
    "version": 3
   },
   "file_extension": ".py",
   "mimetype": "text/x-python",
   "name": "python",
   "nbconvert_exporter": "python",
   "pygments_lexer": "ipython3",
   "version": "3.7.3"
  }
 },
 "nbformat": 4,
 "nbformat_minor": 2
}
